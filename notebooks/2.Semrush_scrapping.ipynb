{
 "cells": [
  {
   "cell_type": "markdown",
   "id": "62381e9e",
   "metadata": {},
   "source": [
    "# Librerías"
   ]
  },
  {
   "cell_type": "code",
   "execution_count": 20,
   "id": "315d9e95",
   "metadata": {},
   "outputs": [],
   "source": [
    "from bs4 import BeautifulSoup as bs\n",
    "import requests as req\n",
    "import pandas as pd"
   ]
  },
  {
   "cell_type": "code",
   "execution_count": 38,
   "id": "fafecfd4",
   "metadata": {},
   "outputs": [
    {
     "data": {
      "text/html": [
       "<div>\n",
       "<style scoped>\n",
       "    .dataframe tbody tr th:only-of-type {\n",
       "        vertical-align: middle;\n",
       "    }\n",
       "\n",
       "    .dataframe tbody tr th {\n",
       "        vertical-align: top;\n",
       "    }\n",
       "\n",
       "    .dataframe thead th {\n",
       "        text-align: right;\n",
       "    }\n",
       "</style>\n",
       "<table border=\"1\" class=\"dataframe\">\n",
       "  <thead>\n",
       "    <tr style=\"text-align: right;\">\n",
       "      <th></th>\n",
       "      <th>country</th>\n",
       "      <th>usage_percentage</th>\n",
       "      <th>users</th>\n",
       "    </tr>\n",
       "  </thead>\n",
       "  <tbody>\n",
       "    <tr>\n",
       "      <th>0</th>\n",
       "      <td>United States</td>\n",
       "      <td>40.1%</td>\n",
       "      <td>1.77B</td>\n",
       "    </tr>\n",
       "    <tr>\n",
       "      <th>1</th>\n",
       "      <td>Canada</td>\n",
       "      <td>6.25%</td>\n",
       "      <td>275.4M</td>\n",
       "    </tr>\n",
       "    <tr>\n",
       "      <th>2</th>\n",
       "      <td>United Kingdom</td>\n",
       "      <td>5.68%</td>\n",
       "      <td>250.2M</td>\n",
       "    </tr>\n",
       "    <tr>\n",
       "      <th>3</th>\n",
       "      <td>India</td>\n",
       "      <td>5.2%</td>\n",
       "      <td>229.1M</td>\n",
       "    </tr>\n",
       "    <tr>\n",
       "      <th>4</th>\n",
       "      <td>Philippines</td>\n",
       "      <td>4.28%</td>\n",
       "      <td>188.6M</td>\n",
       "    </tr>\n",
       "  </tbody>\n",
       "</table>\n",
       "</div>"
      ],
      "text/plain": [
       "          country usage_percentage   users\n",
       "0   United States            40.1%   1.77B\n",
       "1          Canada            6.25%  275.4M\n",
       "2  United Kingdom            5.68%  250.2M\n",
       "3           India             5.2%  229.1M\n",
       "4     Philippines            4.28%  188.6M"
      ]
     },
     "execution_count": 38,
     "metadata": {},
     "output_type": "execute_result"
    }
   ],
   "source": [
    "# En esta ocasión utilizaremos beautifulsoup, ya que no necesitamos navegar por la página\n",
    "\n",
    "url = 'https://www.semrush.com/website/reddit.com/overview/'\n",
    "\n",
    "soup = bs(req.get(url).content,'html.parser')\n",
    "\n",
    "# Sacamos el cuerpo de la tabla y todas las filas:\n",
    "\n",
    "tbody = soup.find('table',class_='sc-eoHXOn kDPliV').find('tbody')\n",
    "rows = tbody.find_all('tr')\n",
    "\n",
    "# Vamos procesando las celdas de cada fila:\n",
    "\n",
    "table = pd.DataFrame([[j.text for j in i.find_all('td')]for i in rows])\n",
    "\n",
    "# Solo nos interesan las tres primeras columnas, tiramos las otras:\n",
    "\n",
    "table.drop(columns = [3,4], inplace = True)\n",
    "\n",
    "# Añadimos el nombre de las columnas:\n",
    "\n",
    "table.columns = ['country','usage_percentage','users']\n",
    "\n",
    "table"
   ]
  },
  {
   "cell_type": "code",
   "execution_count": 39,
   "id": "43c0e9ef",
   "metadata": {},
   "outputs": [
    {
     "data": {
      "text/html": [
       "<div>\n",
       "<style scoped>\n",
       "    .dataframe tbody tr th:only-of-type {\n",
       "        vertical-align: middle;\n",
       "    }\n",
       "\n",
       "    .dataframe tbody tr th {\n",
       "        vertical-align: top;\n",
       "    }\n",
       "\n",
       "    .dataframe thead th {\n",
       "        text-align: right;\n",
       "    }\n",
       "</style>\n",
       "<table border=\"1\" class=\"dataframe\">\n",
       "  <thead>\n",
       "    <tr style=\"text-align: right;\">\n",
       "      <th></th>\n",
       "      <th>country</th>\n",
       "      <th>usage_percentage</th>\n",
       "      <th>users</th>\n",
       "    </tr>\n",
       "  </thead>\n",
       "  <tbody>\n",
       "    <tr>\n",
       "      <th>0</th>\n",
       "      <td>United States</td>\n",
       "      <td>40.10</td>\n",
       "      <td>17700000000</td>\n",
       "    </tr>\n",
       "    <tr>\n",
       "      <th>1</th>\n",
       "      <td>Canada</td>\n",
       "      <td>6.25</td>\n",
       "      <td>2754000000</td>\n",
       "    </tr>\n",
       "    <tr>\n",
       "      <th>2</th>\n",
       "      <td>United Kingdom</td>\n",
       "      <td>5.68</td>\n",
       "      <td>2502000000</td>\n",
       "    </tr>\n",
       "    <tr>\n",
       "      <th>3</th>\n",
       "      <td>India</td>\n",
       "      <td>5.20</td>\n",
       "      <td>2291000000</td>\n",
       "    </tr>\n",
       "    <tr>\n",
       "      <th>4</th>\n",
       "      <td>Philippines</td>\n",
       "      <td>4.28</td>\n",
       "      <td>1886000000</td>\n",
       "    </tr>\n",
       "  </tbody>\n",
       "</table>\n",
       "</div>"
      ],
      "text/plain": [
       "          country  usage_percentage        users\n",
       "0   United States             40.10  17700000000\n",
       "1          Canada              6.25   2754000000\n",
       "2  United Kingdom              5.68   2502000000\n",
       "3           India              5.20   2291000000\n",
       "4     Philippines              4.28   1886000000"
      ]
     },
     "execution_count": 39,
     "metadata": {},
     "output_type": "execute_result"
    }
   ],
   "source": [
    "# Quitemos el símbolo % y sustituyamos M y B por su orden de magnitud correspondiente:\n",
    "\n",
    "table.usage_percentage = [float(i.replace('%','')) for i in table.usage_percentage]\n",
    "\n",
    "magnitude = {'B': 10e9,\n",
    "       'M': 10e6}\n",
    "\n",
    "table.users = [int(float(i[:-1])*magnitude[i[-1]]) for i in table.users]\n",
    "\n",
    "table"
   ]
  },
  {
   "cell_type": "code",
   "execution_count": 40,
   "id": "47508f2c",
   "metadata": {},
   "outputs": [
    {
     "data": {
      "text/plain": [
       "61.510000000000005"
      ]
     },
     "execution_count": 40,
     "metadata": {},
     "output_type": "execute_result"
    }
   ],
   "source": [
    "table.usage_percentage.sum()"
   ]
  },
  {
   "cell_type": "markdown",
   "id": "2dffa525",
   "metadata": {},
   "source": [
    "No podemos obtener la tabla completa, ya que la información detallada es de pago. Sumando la columna de porcentajes llegamos a un 62% que no es muy decente, pero ya que el resto de países tendrán un ratio de uso aún peor tenemos a los principales. Guardemos el csv:"
   ]
  },
  {
   "cell_type": "code",
   "execution_count": 42,
   "id": "7d612470",
   "metadata": {},
   "outputs": [],
   "source": [
    "table.to_csv('../data/raw_data/semrush/redditusage.csv', index = False)"
   ]
  }
 ],
 "metadata": {
  "kernelspec": {
   "display_name": "Python 3 (ipykernel)",
   "language": "python",
   "name": "python3"
  },
  "language_info": {
   "codemirror_mode": {
    "name": "ipython",
    "version": 3
   },
   "file_extension": ".py",
   "mimetype": "text/x-python",
   "name": "python",
   "nbconvert_exporter": "python",
   "pygments_lexer": "ipython3",
   "version": "3.10.9"
  }
 },
 "nbformat": 4,
 "nbformat_minor": 5
}
