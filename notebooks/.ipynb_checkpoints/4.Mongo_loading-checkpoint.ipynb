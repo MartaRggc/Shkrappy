{
 "cells": [
  {
   "cell_type": "markdown",
   "id": "f61392de",
   "metadata": {},
   "source": [
    "# Librerías"
   ]
  },
  {
   "cell_type": "code",
   "execution_count": 16,
   "id": "2a5034d5",
   "metadata": {},
   "outputs": [],
   "source": [
    "import pandas as pd\n",
    "from pymongo import MongoClient"
   ]
  },
  {
   "cell_type": "markdown",
   "id": "841f857b",
   "metadata": {},
   "source": [
    "# Importar datos"
   ]
  },
  {
   "cell_type": "code",
   "execution_count": 18,
   "id": "116bdc2d",
   "metadata": {},
   "outputs": [],
   "source": [
    "# Importamos los datos limpios:\n",
    "\n",
    "c_memes = pd.read_csv('../data/clean_data/c_reddit_memes.csv')\n",
    "c_programming = pd.read_csv('../data/clean_data/c_reddit_programming.csv')\n",
    "c_science = pd.read_csv('../data/clean_data/c_reddit_science.csv')\n",
    "c_relationships = pd.read_csv('../data/clean_data/c_reddit_relationships.csv')\n",
    "c_usa = pd.read_csv('../data/clean_data/c_reddit_usa.csv')\n",
    "c_canada = pd.read_csv('../data/clean_data/c_reddit_canada.csv')\n",
    "c_uk = pd.read_csv('../data/clean_data/c_reddit_uk.csv')\n",
    "\n",
    "# Datos de uso por país:\n",
    "\n",
    "c_georeddit = pd.read_csv('../data/clean_data/c_georeddit.csv')\n",
    "\n",
    "# Datos de Google Trends:\n",
    "\n",
    "c_g_usa = pd.read_csv('../data/clean_data/c_google_usa.csv')\n",
    "c_g_canada = pd.read_csv('../data/clean_data/c_google_canada.csv')\n",
    "c_g_uk = pd.read_csv('../data/clean_data/c_google_uk.csv')\n",
    "\n",
    "# Tabla conjunta:\n",
    "\n",
    "c_activity = pd.read_csv('../data/clean_data/c_activity.csv')"
   ]
  },
  {
   "cell_type": "markdown",
   "id": "0bc0c109",
   "metadata": {},
   "source": [
    "# 4.1. Creación de la base de datos en MongoDB"
   ]
  },
  {
   "cell_type": "code",
   "execution_count": 27,
   "id": "b12c6be6",
   "metadata": {},
   "outputs": [
    {
     "data": {
      "text/plain": [
       "MongoClient(host=['localhost:27017'], document_class=dict, tz_aware=False, connect=True)"
      ]
     },
     "execution_count": 27,
     "metadata": {},
     "output_type": "execute_result"
    }
   ],
   "source": [
    "cursor = MongoClient()  \n",
    "\n",
    "cursor  # ya está la de por defecto"
   ]
  },
  {
   "cell_type": "code",
   "execution_count": 34,
   "id": "ef4c1fa9",
   "metadata": {},
   "outputs": [],
   "source": [
    "shkrappy = cursor.shkrappy # Creamos la base de datos y la llamamos shkrappy"
   ]
  },
  {
   "cell_type": "code",
   "execution_count": 29,
   "id": "5dfd9224",
   "metadata": {},
   "outputs": [],
   "source": [
    "# Creamos las colecciones vacías:\n",
    "\n",
    "memes = shkrappy.memes\n",
    "programming = shkrappy.programming\n",
    "science = shkrappy.science\n",
    "relationships = shkrappy.relationships\n",
    "usa = shkrappy.usa\n",
    "canada = shkrappy.canada\n",
    "uk = shkrappy.uk\n",
    "\n",
    "georeddit = shkrappy.georeddit\n",
    "\n",
    "g_usa = shkrappy.g_usa\n",
    "g_canada = shkrappy.g_canada\n",
    "g_uk = shkrappy.g_uk\n",
    "\n",
    "activity = shkrappy.activity"
   ]
  },
  {
   "cell_type": "markdown",
   "id": "28abbd5d",
   "metadata": {},
   "source": [
    "# 4.2. Seeding de la base de datos "
   ]
  },
  {
   "cell_type": "code",
   "execution_count": 41,
   "id": "b2760401",
   "metadata": {},
   "outputs": [
    {
     "data": {
      "text/plain": [
       "[{'date': '2023-08-05',\n",
       "  'time': '18:41:57',\n",
       "  'title': 'It’s not a donkey, but it’s sooooooo close!',\n",
       "  'link': 'https://b.thumbs.redditmedia.com/UV_IXPBxkdRIyB6az3VBBEvowYvmTIFMGiWVRhLEUCA.jpg'},\n",
       " {'date': '2023-08-05',\n",
       "  'time': '18:25:56',\n",
       "  'title': \"i mean, it's that simple, right?[Shrek]\",\n",
       "  'link': 'https://b.thumbs.redditmedia.com/rIylb4UOJytxkWPhDcjniQz0uqVMcLuVxl_27c70xkM.jpg'},\n",
       " {'date': '2023-08-05',\n",
       "  'time': '18:24:00',\n",
       "  'title': 'I have no idea what in the shrek is going on.',\n",
       "  'link': 'https://b.thumbs.redditmedia.com/kZYq6Q008yFx0jZeBP62xbikHJJ8CC8lcNOouw6Yr_Q.jpg'}]"
      ]
     },
     "execution_count": 41,
     "metadata": {},
     "output_type": "execute_result"
    }
   ],
   "source": [
    "# Pasaremos los dataframes a listas de diccionarios para hacer la transición:\n",
    "\n",
    "c_memes.to_dict('records')[:3]"
   ]
  },
  {
   "cell_type": "code",
   "execution_count": 35,
   "id": "2d03c42a",
   "metadata": {},
   "outputs": [],
   "source": [
    "# Llenamos las colecciones con los dataframes transformados:\n",
    "\n",
    "memes.insert_many(c_memes.to_dict('records'));\n",
    "programming.insert_many(c_programming.to_dict('records'));\n",
    "science.insert_many(c_science.to_dict('records'));\n",
    "relationships.insert_many(c_relationships.to_dict('records'));\n",
    "usa.insert_many(c_usa.to_dict('records'));\n",
    "canada.insert_many(c_canada.to_dict('records'));\n",
    "uk.insert_many(c_uk.to_dict('records'));\n",
    "\n",
    "g_usa.insert_many(c_g_usa.to_dict('records'));\n",
    "g_canada.insert_many(c_g_canada.to_dict('records'));\n",
    "g_uk.insert_many(c_g_uk.to_dict('records'));\n",
    "\n",
    "activity.insert_many(c_activity.to_dict('records'));"
   ]
  },
  {
   "cell_type": "code",
   "execution_count": 36,
   "id": "16b0d26b",
   "metadata": {},
   "outputs": [
    {
     "data": {
      "text/plain": [
       "['admin', 'config', 'local', 'shkrappy']"
      ]
     },
     "execution_count": 36,
     "metadata": {},
     "output_type": "execute_result"
    }
   ],
   "source": [
    "cursor.list_database_names() # Aquí está la nueva database"
   ]
  },
  {
   "cell_type": "code",
   "execution_count": null,
   "id": "62b885f1",
   "metadata": {},
   "outputs": [],
   "source": []
  }
 ],
 "metadata": {
  "kernelspec": {
   "display_name": "Python 3 (ipykernel)",
   "language": "python",
   "name": "python3"
  },
  "language_info": {
   "codemirror_mode": {
    "name": "ipython",
    "version": 3
   },
   "file_extension": ".py",
   "mimetype": "text/x-python",
   "name": "python",
   "nbconvert_exporter": "python",
   "pygments_lexer": "ipython3",
   "version": "3.10.9"
  }
 },
 "nbformat": 4,
 "nbformat_minor": 5
}
